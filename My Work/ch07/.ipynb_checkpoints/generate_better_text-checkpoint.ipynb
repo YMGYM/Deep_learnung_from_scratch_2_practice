{
 "cells": [
  {
   "cell_type": "code",
   "execution_count": 1,
   "metadata": {},
   "outputs": [
    {
     "name": "stdout",
     "output_type": "stream",
     "text": [
      "importing Jupyter notebook from ../ch07/rnnlm_gen.ipynb\n",
      "importing Jupyter notebook from ../common/functions.ipynb\n",
      "importing Jupyter notebook from ../ch06/rnnlm.ipynb\n",
      "importing Jupyter notebook from ../common/time_layers.ipynb\n",
      "importing Jupyter notebook from ../common/layers.ipynb\n",
      "importing Jupyter notebook from ../common/base_model.ipynb\n",
      "importing Jupyter notebook from ../common/util.ipynb\n",
      "importing Jupyter notebook from ../ch06/better_rnnlm.ipynb\n",
      "importing Jupyter notebook from ../dataset/ptb.ipynb\n"
     ]
    }
   ],
   "source": [
    "# coding: utf-8\n",
    "import import_ipynb\n",
    "import sys\n",
    "sys.path.append('..')\n",
    "import numpy as np\n",
    "from ch07.rnnlm_gen import BetterRnnlmGen\n",
    "from dataset import ptb\n",
    "\n",
    "\n"
   ]
  },
  {
   "cell_type": "code",
   "execution_count": 2,
   "metadata": {},
   "outputs": [
    {
     "name": "stdout",
     "output_type": "stream",
     "text": [
      "you might prefer use much more choices than usual.\n",
      " it may be so fast but in this case alone is prepared to admit that the hong kong from hurricane hugo has stalled in the wake of the switch to words mr. bradley told policy secretaries.\n",
      " but a commission spokesman said late in the new york produced that the yeast is needed a company increase it in the atmosphere during february.\n",
      " a new network called an ibm internal audit among many important things in federal court.\n",
      " states led by texaco capital corp. charging workers at the company\n"
     ]
    }
   ],
   "source": [
    "\n",
    "corpus, word_to_id, id_to_word = ptb.load_data('train')\n",
    "vocab_size = len(word_to_id)\n",
    "corpus_size = len(corpus)\n",
    "\n",
    "\n",
    "model = BetterRnnlmGen()\n",
    "model.load_params('../ch06/BetterRnnlm.pkl')\n",
    "\n",
    "# start 문자와 skip 문자 설정\n",
    "start_word = 'you'\n",
    "start_id = word_to_id[start_word]\n",
    "skip_words = ['N', '<unk>', '$']\n",
    "skip_ids = [word_to_id[w] for w in skip_words]\n",
    "# 문장 생성\n",
    "word_ids = model.generate(start_id, skip_ids)\n",
    "txt = ' '.join([id_to_word[i] for i in word_ids])\n",
    "txt = txt.replace(' <eos>', '.\\n')\n",
    "\n",
    "print(txt)\n"
   ]
  },
  {
   "cell_type": "code",
   "execution_count": 12,
   "metadata": {},
   "outputs": [
    {
     "name": "stdout",
     "output_type": "stream",
     "text": [
      "--------------------------------------------------\n",
      "the meaning of life is consumed in the factory as well as the border\n"
     ]
    }
   ],
   "source": [
    "# 재미있는 실험\n",
    "model.reset_state()\n",
    "start_words = 'the meaning of life is'\n",
    "start_ids = [word_to_id[w] for w in start_words.split(' ')]\n",
    "skip_words = ['N', '<unk>', '$']\n",
    "skip_ids = [word_to_id[w] for w in skip_words]\n",
    "\n",
    "for x in start_ids[:-1]:\n",
    "    x = np.array(x).reshape(1,1)\n",
    "    model.predict(x)\n",
    "    \n",
    "word_ids = model.generate(start_ids[-1], skip_ids, sample_size=10)\n",
    "word_ids = start_ids[:-1] + word_ids\n",
    "\n",
    "txt = ' '.join([id_to_word[i] for i in word_ids])\n",
    "txt = txt.replace(' <eos>', '.\\n')\n",
    "print('-' * 50)\n",
    "print(txt)"
   ]
  },
  {
   "cell_type": "code",
   "execution_count": 33,
   "metadata": {},
   "outputs": [
    {
     "name": "stdout",
     "output_type": "stream",
     "text": [
      "--------------------------------------------------\n",
      "work out is one of the widely held there more to some opportunities in the\n"
     ]
    }
   ],
   "source": [
    "# 재미있는 실험\n",
    "model.reset_state()\n",
    "start_words = 'work out is one of the'\n",
    "start_ids = [word_to_id[w] for w in start_words.split(' ')]\n",
    "skip_words = ['N', '<unk>', '$']\n",
    "skip_ids = [word_to_id[w] for w in skip_words]\n",
    "\n",
    "for x in start_ids[:-1]:\n",
    "    x = np.array(x).reshape(1,1)\n",
    "    model.predict(x)\n",
    "    \n",
    "word_ids = model.generate(start_ids[-1], skip_ids, sample_size=10)\n",
    "word_ids = start_ids[:-1] + word_ids\n",
    "\n",
    "txt = ' '.join([id_to_word[i] for i in word_ids])\n",
    "txt = txt.replace(' <eos>', '.\\n')\n",
    "print('-' * 50)\n",
    "print(txt)"
   ]
  },
  {
   "cell_type": "code",
   "execution_count": null,
   "metadata": {},
   "outputs": [],
   "source": []
  },
  {
   "cell_type": "code",
   "execution_count": null,
   "metadata": {},
   "outputs": [],
   "source": []
  }
 ],
 "metadata": {
  "kernelspec": {
   "display_name": "Python 3",
   "language": "python",
   "name": "python3"
  },
  "language_info": {
   "codemirror_mode": {
    "name": "ipython",
    "version": 3
   },
   "file_extension": ".py",
   "mimetype": "text/x-python",
   "name": "python",
   "nbconvert_exporter": "python",
   "pygments_lexer": "ipython3",
   "version": "3.7.4"
  }
 },
 "nbformat": 4,
 "nbformat_minor": 2
}
