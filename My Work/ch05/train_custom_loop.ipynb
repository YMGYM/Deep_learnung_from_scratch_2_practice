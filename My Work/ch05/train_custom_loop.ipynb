{
 "cells": [
  {
   "cell_type": "code",
   "execution_count": 1,
   "metadata": {},
   "outputs": [
    {
     "name": "stdout",
     "output_type": "stream",
     "text": [
      "importing Jupyter notebook from ../common/optimizer.ipynb\n",
      "importing Jupyter notebook from ../dataset/ptb.ipynb\n",
      "importing Jupyter notebook from simple_rnnlm.ipynb\n",
      "importing Jupyter notebook from ../common/time_layers.ipynb\n",
      "importing Jupyter notebook from ../common/layers.ipynb\n",
      "importing Jupyter notebook from ../common/functions.ipynb\n"
     ]
    }
   ],
   "source": [
    "import import_ipynb\n",
    "import sys\n",
    "sys.path.append('..')\n",
    "import matplotlib.pyplot as plt\n",
    "import numpy as np\n",
    "from common.optimizer import SGD\n",
    "from dataset import ptb\n",
    "from simple_rnnlm import SimpleRnnlm"
   ]
  },
  {
   "cell_type": "code",
   "execution_count": 2,
   "metadata": {},
   "outputs": [],
   "source": [
    "# 하이퍼파라미터 설정\n",
    "batch_size = 10\n",
    "wordvec_size = 100\n",
    "hidden_size = 100\n",
    "time_size = 5\n",
    "lr = 0.1\n",
    "max_epoch = 100"
   ]
  },
  {
   "cell_type": "code",
   "execution_count": 3,
   "metadata": {},
   "outputs": [
    {
     "name": "stdout",
     "output_type": "stream",
     "text": [
      "말뭉치 크기 : 1000, 어휘 수 : 418\n"
     ]
    }
   ],
   "source": [
    "# 학습 데이터 읽기\n",
    "corpus, word_to_id, id_to_word = ptb.load_data('train')\n",
    "corpus_size = 1000\n",
    "corpus = corpus[:corpus_size]\n",
    "vocab_size = int(max(corpus) + 1)\n",
    "\n",
    "xs = corpus[:-1] #입력\n",
    "ts = corpus[1:]\n",
    "data_size = len(xs)\n",
    "print('말뭉치 크기 : {}, 어휘 수 : {}'.format(corpus_size, vocab_size))"
   ]
  },
  {
   "cell_type": "code",
   "execution_count": 4,
   "metadata": {},
   "outputs": [],
   "source": [
    "# 학습 시 사용하는 변수\n",
    "max_iters = data_size // (batch_size * time_size)\n",
    "time_idx = 0\n",
    "total_loss = 0\n",
    "loss_count = 0\n",
    "ppl_list = []"
   ]
  },
  {
   "cell_type": "code",
   "execution_count": 5,
   "metadata": {},
   "outputs": [],
   "source": [
    "# 모델 생성\n",
    "model = SimpleRnnlm(vocab_size, wordvec_size, hidden_size)\n",
    "optimizer = SGD(lr)"
   ]
  },
  {
   "cell_type": "code",
   "execution_count": 6,
   "metadata": {},
   "outputs": [
    {
     "data": {
      "text/plain": [
       "[0, 99, 198, 297, 396, 495, 594, 693, 792, 891]"
      ]
     },
     "execution_count": 6,
     "metadata": {},
     "output_type": "execute_result"
    }
   ],
   "source": [
    "# 각 미니배치에서 샘플을 읽기 시작할 위치\n",
    "jump = (corpus_size - 1) // batch_size\n",
    "offsets = [i * jump for i in range(batch_size)]\n",
    "offsets"
   ]
  },
  {
   "cell_type": "code",
   "execution_count": 7,
   "metadata": {},
   "outputs": [
    {
     "name": "stdout",
     "output_type": "stream",
     "text": [
      "[[         0      21990  264279696      21990 -793278928]\n",
      " [        42 -793278864      32574 -793278800      32574]\n",
      " [        26      32574 -793278672      32574 -793278608]\n",
      " [        24 -793278544      32574 -793278480      32574]\n",
      " [       208      32574 -793278352      32574 -793278288]\n",
      " [        26 -793278224      32574 -793278160      32574]\n",
      " [       274      32574 -793278032      32574 -793277968]\n",
      " [        88 -793277904      32574 -793277840      32574]\n",
      " [        42      32574 -793277712      32574 -793277648]\n",
      " [       339 -793277584      32574        208          0]]\n",
      "[[         0      21990  264279696      21990 -793278928]\n",
      " [        42 -793278864      32574 -793278800      32574]\n",
      " [        26      32574 -793278672      32574 -793278608]\n",
      " [        24 -793278544      32574 -793278480      32574]\n",
      " [       208      32574 -793278352      32574 -793278288]\n",
      " [        26 -793278224      32574 -793278160      32574]\n",
      " [       274      32574 -793278032      32574 -793277968]\n",
      " [        88 -793277904      32574 -793277840      32574]\n",
      " [        42      32574 -793277712      32574 -793277648]\n",
      " [       339 -793277584      32574        208          0]]\n",
      "[  0  42  26  24 208  26 274  88  42 339]\n",
      "[[         0      21990  264279696      21990 -793278928]\n",
      " [        42 -793278864      32574 -793278800      32574]\n",
      " [        26      32574 -793278672      32574 -793278608]\n",
      " [        24 -793278544      32574 -793278480      32574]\n",
      " [       208      32574 -793278352      32574 -793278288]\n",
      " [        26 -793278224      32574 -793278160      32574]\n",
      " [       274      32574 -793278032      32574 -793277968]\n",
      " [        88 -793277904      32574 -793277840      32574]\n",
      " [        42      32574 -793277712      32574 -793277648]\n",
      " [       339 -793277584      32574        208          0]]\n",
      "[     21990 -793278864      32574 -793278544      32574 -793278224\n",
      "      32574 -793277904      32574 -793277584]\n"
     ]
    },
    {
     "ename": "IndexError",
     "evalue": "index 21990 is out of bounds for axis 0 with size 418",
     "output_type": "error",
     "traceback": [
      "\u001b[0;31m---------------------------------------------------------------------------\u001b[0m",
      "\u001b[0;31mIndexError\u001b[0m                                Traceback (most recent call last)",
      "\u001b[0;32m<ipython-input-7-1c02ba1746b0>\u001b[0m in \u001b[0;36m<module>\u001b[0;34m\u001b[0m\n\u001b[1;32m     13\u001b[0m             \u001b[0mprint\u001b[0m\u001b[0;34m(\u001b[0m\u001b[0mbatch_x\u001b[0m\u001b[0;34m)\u001b[0m\u001b[0;34m\u001b[0m\u001b[0;34m\u001b[0m\u001b[0m\n\u001b[1;32m     14\u001b[0m             \u001b[0;31m# 기울기를 구하여 매개변수 생성\u001b[0m\u001b[0;34m\u001b[0m\u001b[0;34m\u001b[0m\u001b[0;34m\u001b[0m\u001b[0m\n\u001b[0;32m---> 15\u001b[0;31m             \u001b[0mloss\u001b[0m \u001b[0;34m=\u001b[0m \u001b[0mmodel\u001b[0m\u001b[0;34m.\u001b[0m\u001b[0mforward\u001b[0m\u001b[0;34m(\u001b[0m\u001b[0mbatch_x\u001b[0m\u001b[0;34m,\u001b[0m \u001b[0mbatch_t\u001b[0m\u001b[0;34m)\u001b[0m\u001b[0;34m\u001b[0m\u001b[0;34m\u001b[0m\u001b[0m\n\u001b[0m\u001b[1;32m     16\u001b[0m             \u001b[0mmodel\u001b[0m\u001b[0;34m.\u001b[0m\u001b[0mbackward\u001b[0m\u001b[0;34m(\u001b[0m\u001b[0;34m)\u001b[0m\u001b[0;34m\u001b[0m\u001b[0;34m\u001b[0m\u001b[0m\n\u001b[1;32m     17\u001b[0m             \u001b[0moptimizer\u001b[0m\u001b[0;34m.\u001b[0m\u001b[0mupdate\u001b[0m\u001b[0;34m(\u001b[0m\u001b[0mmodel\u001b[0m\u001b[0;34m.\u001b[0m\u001b[0mparams\u001b[0m\u001b[0;34m,\u001b[0m \u001b[0mmodel\u001b[0m\u001b[0;34m.\u001b[0m\u001b[0mgrads\u001b[0m\u001b[0;34m)\u001b[0m\u001b[0;34m\u001b[0m\u001b[0;34m\u001b[0m\u001b[0m\n",
      "\u001b[0;32m/workspace/DNN-practice/My Work/ch05/simple_rnnlm.ipynb\u001b[0m in \u001b[0;36mforward\u001b[0;34m(self, xs, ts)\u001b[0m\n",
      "\u001b[0;32m/workspace/DNN-practice/My Work/common/time_layers.ipynb\u001b[0m in \u001b[0;36mforward\u001b[0;34m(self, xs)\u001b[0m\n",
      "\u001b[0;32m/workspace/DNN-practice/My Work/common/layers.ipynb\u001b[0m in \u001b[0;36mforward\u001b[0;34m(self, idx)\u001b[0m\n",
      "\u001b[0;31mIndexError\u001b[0m: index 21990 is out of bounds for axis 0 with size 418"
     ]
    }
   ],
   "source": [
    "for epoch in range(max_epoch):\n",
    "    for iter in range(max_iters):\n",
    "        # 미니배치 획득\n",
    "        batch_x = np.empty((batch_size, time_size), dtype='i')\n",
    "        batch_t = np.empty((batch_size, time_size), dtype='i')\n",
    "        \n",
    "        for t in range(time_size):\n",
    "            for i, offset in enumerate(offsets):\n",
    "                batch_x[i, t] = xs[(offset + time_idx) % data_size]\n",
    "                batch_t[i, t] = ts[(offset + time_idx) % data_size]\n",
    "            time_idx += 1\n",
    "            \n",
    "            print(batch_x)\n",
    "            # 기울기를 구하여 매개변수 생성\n",
    "            loss = model.forward(batch_x, batch_t)\n",
    "            model.backward()\n",
    "            optimizer.update(model.params, model.grads)\n",
    "            total_loss += loss\n",
    "            loss_count += 1\n",
    "            \n",
    "        #에폭마다 퍼블렉서티 평가\n",
    "        ppl = np.exp(total_loss / loss_count)\n",
    "        print('| 에폭 {} | 퍼블렉서티 {}'.format(epoch+1, ppl))\n",
    "        ppl_list.append(float(ppl))\n",
    "        total_loss, loss_count = 0, 0"
   ]
  },
  {
   "cell_type": "code",
   "execution_count": null,
   "metadata": {},
   "outputs": [],
   "source": []
  }
 ],
 "metadata": {
  "kernelspec": {
   "display_name": "Python 3",
   "language": "python",
   "name": "python3"
  },
  "language_info": {
   "codemirror_mode": {
    "name": "ipython",
    "version": 3
   },
   "file_extension": ".py",
   "mimetype": "text/x-python",
   "name": "python",
   "nbconvert_exporter": "python",
   "pygments_lexer": "ipython3",
   "version": "3.7.4"
  }
 },
 "nbformat": 4,
 "nbformat_minor": 2
}
