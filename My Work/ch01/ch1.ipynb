{
 "cells": [
  {
   "cell_type": "markdown",
   "metadata": {},
   "source": [
    "# 1.1 수학과 파이썬 복습"
   ]
  },
  {
   "cell_type": "code",
   "execution_count": 5,
   "metadata": {},
   "outputs": [],
   "source": [
    "import numpy as np"
   ]
  },
  {
   "cell_type": "code",
   "execution_count": 3,
   "metadata": {},
   "outputs": [],
   "source": [
    "x = np.array([1,2,3])"
   ]
  },
  {
   "cell_type": "code",
   "execution_count": 4,
   "metadata": {},
   "outputs": [
    {
     "data": {
      "text/plain": [
       "numpy.ndarray"
      ]
     },
     "execution_count": 4,
     "metadata": {},
     "output_type": "execute_result"
    }
   ],
   "source": [
    "x.__class__"
   ]
  },
  {
   "cell_type": "code",
   "execution_count": 5,
   "metadata": {},
   "outputs": [
    {
     "data": {
      "text/plain": [
       "(3,)"
      ]
     },
     "execution_count": 5,
     "metadata": {},
     "output_type": "execute_result"
    }
   ],
   "source": [
    "x.shape"
   ]
  },
  {
   "cell_type": "code",
   "execution_count": 6,
   "metadata": {},
   "outputs": [
    {
     "data": {
      "text/plain": [
       "1"
      ]
     },
     "execution_count": 6,
     "metadata": {},
     "output_type": "execute_result"
    }
   ],
   "source": [
    "x.ndim"
   ]
  },
  {
   "cell_type": "code",
   "execution_count": 7,
   "metadata": {},
   "outputs": [],
   "source": [
    "W = np.array([[1,2,3], [4,5,6]])"
   ]
  },
  {
   "cell_type": "code",
   "execution_count": 8,
   "metadata": {},
   "outputs": [
    {
     "data": {
      "text/plain": [
       "(2, 3)"
      ]
     },
     "execution_count": 8,
     "metadata": {},
     "output_type": "execute_result"
    }
   ],
   "source": [
    "W.shape"
   ]
  },
  {
   "cell_type": "code",
   "execution_count": 9,
   "metadata": {},
   "outputs": [
    {
     "data": {
      "text/plain": [
       "2"
      ]
     },
     "execution_count": 9,
     "metadata": {},
     "output_type": "execute_result"
    }
   ],
   "source": [
    "W.ndim"
   ]
  },
  {
   "cell_type": "code",
   "execution_count": 10,
   "metadata": {},
   "outputs": [
    {
     "data": {
      "text/plain": [
       "array([[ 1,  3,  5],\n",
       "       [ 7,  9, 11]])"
      ]
     },
     "execution_count": 10,
     "metadata": {},
     "output_type": "execute_result"
    }
   ],
   "source": [
    "W = np.array([[1,2,3],[4,5,6]])\n",
    "X = np.array([[0,1,2],[3,4,5]])\n",
    "W + X"
   ]
  },
  {
   "cell_type": "code",
   "execution_count": 11,
   "metadata": {},
   "outputs": [
    {
     "data": {
      "text/plain": [
       "array([[ 0,  2,  6],\n",
       "       [12, 20, 30]])"
      ]
     },
     "execution_count": 11,
     "metadata": {},
     "output_type": "execute_result"
    }
   ],
   "source": [
    "W * X"
   ]
  },
  {
   "cell_type": "code",
   "execution_count": 12,
   "metadata": {},
   "outputs": [
    {
     "data": {
      "text/plain": [
       "array([[10, 20],\n",
       "       [30, 40]])"
      ]
     },
     "execution_count": 12,
     "metadata": {},
     "output_type": "execute_result"
    }
   ],
   "source": [
    "A = np.array([[1,2], [3,4]])\n",
    "A * 10"
   ]
  },
  {
   "cell_type": "code",
   "execution_count": 13,
   "metadata": {},
   "outputs": [],
   "source": [
    "b = np.array([10,20])"
   ]
  },
  {
   "cell_type": "code",
   "execution_count": 14,
   "metadata": {},
   "outputs": [
    {
     "data": {
      "text/plain": [
       "array([[10, 40],\n",
       "       [30, 80]])"
      ]
     },
     "execution_count": 14,
     "metadata": {},
     "output_type": "execute_result"
    }
   ],
   "source": [
    "A * b"
   ]
  },
  {
   "cell_type": "code",
   "execution_count": 15,
   "metadata": {},
   "outputs": [
    {
     "data": {
      "text/plain": [
       "32"
      ]
     },
     "execution_count": 15,
     "metadata": {},
     "output_type": "execute_result"
    }
   ],
   "source": [
    "a = np.array([1,2,3])\n",
    "b = np.array([4,5,6])\n",
    "np.dot(a,b)"
   ]
  },
  {
   "cell_type": "code",
   "execution_count": 16,
   "metadata": {},
   "outputs": [
    {
     "data": {
      "text/plain": [
       "array([[19, 22],\n",
       "       [43, 50]])"
      ]
     },
     "execution_count": 16,
     "metadata": {},
     "output_type": "execute_result"
    }
   ],
   "source": [
    "A = np.array([[1,2],[3,4]])\n",
    "B = np.array([[5,6],[7,8]])\n",
    "np.matmul(A,B)"
   ]
  },
  {
   "cell_type": "markdown",
   "metadata": {},
   "source": [
    "# 1.2 신경망의 추론"
   ]
  },
  {
   "cell_type": "code",
   "execution_count": 17,
   "metadata": {},
   "outputs": [],
   "source": [
    "# 미니배치 완전 연결 계층\n",
    "W1 = np.random.randn(2,4) # 가중치\n",
    "b1 = np.random.randn(4) # 편향\n",
    "x = np.random.randn(10,2)\n",
    "h = np.matmul(x, W1) + b1"
   ]
  },
  {
   "cell_type": "code",
   "execution_count": 18,
   "metadata": {},
   "outputs": [
    {
     "data": {
      "text/plain": [
       "(10, 4)"
      ]
     },
     "execution_count": 18,
     "metadata": {},
     "output_type": "execute_result"
    }
   ],
   "source": [
    "h.shape"
   ]
  },
  {
   "cell_type": "markdown",
   "metadata": {},
   "source": [
    "## 시그모이드 함수 정의"
   ]
  },
  {
   "cell_type": "code",
   "execution_count": 19,
   "metadata": {},
   "outputs": [],
   "source": [
    "def sigmoid(x):\n",
    "    return 1/ (1 + np.exp(-x))"
   ]
  },
  {
   "cell_type": "code",
   "execution_count": 20,
   "metadata": {},
   "outputs": [],
   "source": [
    "import matplotlib.pyplot as plt"
   ]
  },
  {
   "cell_type": "code",
   "execution_count": 21,
   "metadata": {},
   "outputs": [
    {
     "data": {
      "image/png": "[encoded data removed]",
      "text/plain": [
       "<Figure size 432x288 with 1 Axes>"
      ]
     },
     "metadata": {
      "needs_background": "light"
     },
     "output_type": "display_data"
    }
   ],
   "source": [
    "x = np.arange(-4, 4, 0.1)\n",
    "y = sigmoid(x)\n",
    "plt.plot(x,y)\n",
    "plt.show()"
   ]
  },
  {
   "cell_type": "code",
   "execution_count": 22,
   "metadata": {},
   "outputs": [
    {
     "name": "stdout",
     "output_type": "stream",
     "text": [
      "(10, 4)\n",
      "(10, 3)\n"
     ]
    }
   ],
   "source": [
    "x = np.random.randn(10,2)\n",
    "W1 = np.random.randn(2,4)\n",
    "b1 = np.random.randn(4)\n",
    "W2 = np.random.randn(4,3)\n",
    "b2 = np.random.randn(3)\n",
    "\n",
    "h = np.matmul(x, W1) + b1\n",
    "a = sigmoid(h)\n",
    "s = np.matmul(a, W2) + b2\n",
    "\n",
    "print(h.shape)\n",
    "print(s.shape)"
   ]
  },
  {
   "cell_type": "code",
   "execution_count": 31,
   "metadata": {},
   "outputs": [],
   "source": [
    "# 신경망 추론 후 학습"
   ]
  },
  {
   "cell_type": "code",
   "execution_count": 1,
   "metadata": {},
   "outputs": [],
   "source": [
    "import import_ipynb"
   ]
  },
  {
   "cell_type": "code",
   "execution_count": 10,
   "metadata": {},
   "outputs": [],
   "source": [
    "from forward_net import *"
   ]
  },
  {
   "cell_type": "code",
   "execution_count": 17,
   "metadata": {},
   "outputs": [
    {
     "ename": "SyntaxError",
     "evalue": "invalid syntax (<ipython-input-17-d1b68d16d757>, line 1)",
     "output_type": "error",
     "traceback": [
      "\u001b[0;36m  File \u001b[0;32m\"<ipython-input-17-d1b68d16d757>\"\u001b[0;36m, line \u001b[0;32m1\u001b[0m\n\u001b[0;31m    x = np.random.randn(10,2)b\u001b[0m\n\u001b[0m                             ^\u001b[0m\n\u001b[0;31mSyntaxError\u001b[0m\u001b[0;31m:\u001b[0m invalid syntax\n"
     ]
    }
   ],
   "source": [
    "x = np.random.randn(10,2)b\n",
    "model = TwoLayerNet(2,4,3)\n",
    "s = model.predict(x)"
   ]
  },
  {
   "cell_type": "markdown",
   "metadata": {},
   "source": [
    "# 계산 역전파"
   ]
  },
  {
   "cell_type": "code",
   "execution_count": 21,
   "metadata": {},
   "outputs": [
    {
     "name": "stdout",
     "output_type": "stream",
     "text": [
      "[[-0.67373419 -0.24511639 -0.56257374 -1.90477557  2.71322354  3.72451194\n",
      "  -0.26286951 -0.01960444]]\n"
     ]
    }
   ],
   "source": [
    "# sum 노드의 순전파와 역전파 테스트\n",
    "D, N = 8, 7\n",
    "x = np.random.randn(1, D)\n",
    "y = np.repeat(x, N, axis = 0)\n",
    "dy = np.random.randn(N, D)\n",
    "dx = np.sum(dy, axis = 0, keepdims = True)\n",
    "print(dx)"
   ]
  },
  {
   "cell_type": "markdown",
   "metadata": {},
   "source": [
    "# 1.4 스파이럴 데이터셋"
   ]
  },
  {
   "cell_type": "code",
   "execution_count": 2,
   "metadata": {},
   "outputs": [
    {
     "name": "stdout",
     "output_type": "stream",
     "text": [
      "importing Jupyter notebook from ../dataset/spiral.ipynb\n",
      "x (300, 2)\n",
      "x (300, 3)\n"
     ]
    }
   ],
   "source": [
    "import sys\n",
    "sys.path.append('..') # 부모 디렉토리의 파일을 가져올 수 있도록 함\n",
    "from dataset import spiral\n",
    "import matplotlib.pyplot as plt\n",
    "\n",
    "x, t = spiral.load_data()\n",
    "\n",
    "print('x', x.shape)\n",
    "print('x', t.shape)"
   ]
  },
  {
   "cell_type": "code",
   "execution_count": 8,
   "metadata": {},
   "outputs": [
    {
     "data": {
      "image/png": "[encoded data removed]",
      "text/plain": [
       "<Figure size 432x288 with 1 Axes>"
      ]
     },
     "metadata": {
      "needs_background": "light"
     },
     "output_type": "display_data"
    }
   ],
   "source": [
    "markers = ['o', 'x', '^']\n",
    "for i in range(CLS_NUM):\n",
    "    plt.scatter(x[i*N:(i+1)*N, 0], x[i*N:(i+1)*N, 1], s=40, marker=markers[i])\n",
    "plt.show()\n"
   ]
  },
  {
   "cell_type": "code",
   "execution_count": 15,
   "metadata": {},
   "outputs": [
    {
     "data": {
      "text/plain": [
       "array([[-0.00000000e+00,  0.00000000e+00],\n",
       "       [-9.76986432e-04,  9.95216044e-03],\n",
       "       [ 5.12668241e-03,  1.93317647e-02],\n",
       "       [-3.86043324e-04,  2.99975161e-02],\n",
       "       [ 1.42509650e-02,  3.73752591e-02],\n",
       "       [ 9.41914082e-04,  4.99911272e-02],\n",
       "       [ 2.25361319e-02,  5.56068589e-02],\n",
       "       [ 6.52848904e-03,  6.96948982e-02],\n",
       "       [ 2.50649535e-02,  7.59720219e-02],\n",
       "       [ 2.03287580e-02,  8.76740646e-02],\n",
       "       [ 5.98440862e-02,  8.01166983e-02],\n",
       "       [ 6.19050693e-02,  9.09272368e-02],\n",
       "       [ 3.22809763e-02,  1.15576549e-01],\n",
       "       [ 8.28423530e-02,  1.00185551e-01],\n",
       "       [ 1.09856959e-01,  8.67839183e-02],\n",
       "       [ 9.33208222e-02,  1.17436043e-01],\n",
       "       [ 7.82976217e-02,  1.39533087e-01],\n",
       "       [ 1.23994559e-01,  1.16298535e-01],\n",
       "       [ 8.06199110e-02,  1.60936105e-01],\n",
       "       [ 1.39235917e-01,  1.29280158e-01],\n",
       "       [ 1.53599653e-01,  1.28090384e-01],\n",
       "       [ 1.38981638e-01,  1.57429680e-01],\n",
       "       [ 1.89873275e-01,  1.11122183e-01],\n",
       "       [ 1.41160729e-01,  1.81586477e-01],\n",
       "       [ 1.50631465e-01,  1.86842613e-01],\n",
       "       [ 1.71714639e-01,  1.81697778e-01],\n",
       "       [ 2.10050449e-01,  1.53227963e-01],\n",
       "       [ 2.32019716e-01,  1.38082770e-01],\n",
       "       [ 2.31219125e-01,  1.57916802e-01],\n",
       "       [ 2.51798226e-01,  1.43866791e-01],\n",
       "       [ 2.59928236e-01,  1.49790894e-01],\n",
       "       [ 3.03168799e-01,  6.47200053e-02],\n",
       "       [ 2.99776174e-01,  1.11956445e-01],\n",
       "       [ 2.71902926e-01,  1.86999462e-01],\n",
       "       [ 3.39649101e-01,  1.54430706e-02],\n",
       "       [ 3.41955960e-01,  7.46064458e-02],\n",
       "       [ 3.56153446e-01,  5.24854558e-02],\n",
       "       [ 3.69893826e-01, -8.86325970e-03],\n",
       "       [ 3.78749506e-01,  3.08027885e-02],\n",
       "       [ 3.89323347e-01, -2.29636922e-02],\n",
       "       [ 3.97756477e-01, -4.23058548e-02],\n",
       "       [ 3.97790750e-01, -9.93102174e-02],\n",
       "       [ 4.19082447e-01, -2.77471188e-02],\n",
       "       [ 4.26755751e-01, -5.27212418e-02],\n",
       "       [ 4.27342016e-01, -1.04779774e-01],\n",
       "       [ 4.37333586e-01, -1.06015726e-01],\n",
       "       [ 4.54778403e-01, -6.91129800e-02],\n",
       "       [ 4.33582415e-01, -1.81400909e-01],\n",
       "       [ 4.75290298e-01, -6.70755731e-02],\n",
       "       [ 4.36148818e-01, -2.23325341e-01],\n",
       "       [ 2.88929307e-01, -4.08068444e-01],\n",
       "       [ 4.69656878e-01, -1.98802456e-01],\n",
       "       [ 3.86773022e-01, -3.47572480e-01],\n",
       "       [ 5.00808621e-01, -1.73466783e-01],\n",
       "       [ 4.24431168e-01, -3.33853536e-01],\n",
       "       [ 4.24040623e-01, -3.50270681e-01],\n",
       "       [ 2.80512809e-01, -4.84677794e-01],\n",
       "       [ 5.30623098e-01, -2.08180518e-01],\n",
       "       [ 4.11038907e-01, -4.09202904e-01],\n",
       "       [ 4.62137267e-01, -3.66782151e-01],\n",
       "       [ 3.95281189e-01, -4.51389834e-01],\n",
       "       [ 3.67613445e-01, -4.86785738e-01],\n",
       "       [ 4.94556678e-01, -3.73916691e-01],\n",
       "       [ 4.35611632e-01, -4.55129109e-01],\n",
       "       [ 3.28234290e-01, -5.49419922e-01],\n",
       "       [ 2.78014129e-01, -5.87544164e-01],\n",
       "       [ 3.04441838e-01, -5.85589590e-01],\n",
       "       [-3.84353415e-02, -6.68896647e-01],\n",
       "       [ 4.32663510e-01, -5.24597262e-01],\n",
       "       [ 3.67995385e-01, -5.83677477e-01],\n",
       "       [ 1.62513204e-01, -6.80874040e-01],\n",
       "       [-7.01870180e-02, -7.06522316e-01],\n",
       "       [ 1.20922889e-01, -7.09772960e-01],\n",
       "       [ 1.81179805e-01, -7.07159019e-01],\n",
       "       [ 4.37091210e-02, -7.38708002e-01],\n",
       "       [ 1.03491018e-01, -7.42825423e-01],\n",
       "       [-6.40535178e-03, -7.59973007e-01],\n",
       "       [-1.70362786e-01, -7.50917120e-01],\n",
       "       [ 1.37916439e-01, -7.67710268e-01],\n",
       "       [-1.54966573e-02, -7.89847994e-01],\n",
       "       [-4.01784946e-02, -7.98990418e-01],\n",
       "       [-2.98916375e-01, -7.52827338e-01],\n",
       "       [-1.88135777e-01, -7.98125886e-01],\n",
       "       [-1.16656887e-03, -8.29999180e-01],\n",
       "       [-2.86409662e-01, -7.89664173e-01],\n",
       "       [-1.45414274e-01, -8.37469217e-01],\n",
       "       [-3.08244630e-01, -8.02860666e-01],\n",
       "       [-1.13882388e-01, -8.62514233e-01],\n",
       "       [-1.97807480e-01, -8.57480146e-01],\n",
       "       [-7.28153677e-01, -5.11754065e-01],\n",
       "       [-5.28735647e-01, -7.28312169e-01],\n",
       "       [-1.95859389e-01, -8.88672662e-01],\n",
       "       [-6.55599644e-01, -6.45437144e-01],\n",
       "       [-4.36321749e-01, -8.21293694e-01],\n",
       "       [-3.97220716e-01, -8.51948181e-01],\n",
       "       [-7.40823025e-01, -5.94711060e-01],\n",
       "       [-7.83135284e-01, -5.55246906e-01],\n",
       "       [-6.83380750e-01, -6.88397233e-01],\n",
       "       [-6.79385602e-01, -7.06282665e-01],\n",
       "       [-5.87009159e-01, -7.97195238e-01],\n",
       "       [-0.00000000e+00, -0.00000000e+00],\n",
       "       [-8.37020532e-03, -5.47171481e-03],\n",
       "       [-1.83996723e-02, -7.83913638e-03],\n",
       "       [-2.38615572e-02, -1.81831264e-02],\n",
       "       [-2.71639022e-02, -2.93619212e-02],\n",
       "       [-4.67712876e-02, -1.76761608e-02],\n",
       "       [-5.13932286e-02, -3.09634633e-02],\n",
       "       [-6.72785631e-02, -1.93286044e-02],\n",
       "       [-7.58815643e-02, -2.53374861e-02],\n",
       "       [-8.87183570e-02, -1.51345014e-02],\n",
       "       [-8.95920555e-02, -4.44214317e-02],\n",
       "       [-1.05681839e-01, -3.05180093e-02],\n",
       "       [-1.12859458e-01, -4.07767431e-02],\n",
       "       [-1.29959580e-01, -3.24155301e-03],\n",
       "       [-1.39813880e-01, -7.21657356e-03],\n",
       "       [-1.45884653e-01, -3.48951009e-02],\n",
       "       [-1.58860475e-01, -1.90617278e-02],\n",
       "       [-1.69789215e-01,  8.46300817e-03],\n",
       "       [-1.79892182e-01,  6.22920756e-03],\n",
       "       [-1.82531530e-01,  5.27469495e-02],\n",
       "       [-1.96787914e-01,  3.57003745e-02],\n",
       "       [-1.78610713e-01,  1.10445521e-01],\n",
       "       [-2.14327911e-01,  4.96341281e-02],\n",
       "       [-2.23948847e-01,  5.24110098e-02],\n",
       "       [-2.39863331e-01,  8.09829103e-03],\n",
       "       [-2.45011435e-01,  4.96930264e-02],\n",
       "       [-2.33354905e-01,  1.14653775e-01],\n",
       "       [-2.50877484e-01,  9.98022449e-02],\n",
       "       [-2.77281919e-01,  3.89196302e-02],\n",
       "       [-2.70172382e-01,  1.05389203e-01],\n",
       "       [-2.92387849e-01,  6.71516607e-02],\n",
       "       [-2.73972209e-01,  1.45049056e-01],\n",
       "       [-2.85671818e-01,  1.44192969e-01],\n",
       "       [-3.21248452e-01,  7.54945832e-02],\n",
       "       [-3.07272511e-01,  1.45545883e-01],\n",
       "       [-2.39745837e-01,  2.54993988e-01],\n",
       "       [-2.48112212e-01,  2.60845415e-01],\n",
       "       [-1.51453586e-01,  3.37582303e-01],\n",
       "       [-2.67068820e-01,  2.70322484e-01],\n",
       "       [-2.89146403e-01,  2.61714267e-01],\n",
       "       [-1.38404573e-01,  3.75292118e-01],\n",
       "       [-2.47585805e-01,  3.26804635e-01],\n",
       "       [-2.18612860e-01,  3.58620158e-01],\n",
       "       [-1.25241675e-01,  4.11356929e-01],\n",
       "       [-1.95264902e-01,  3.94298895e-01],\n",
       "       [-1.46778711e-01,  4.25389245e-01],\n",
       "       [-1.04988763e-01,  4.47858638e-01],\n",
       "       [-2.68359413e-01,  3.85853892e-01],\n",
       "       [-1.93548031e-01,  4.39248403e-01],\n",
       "       [-8.77361039e-02,  4.82081296e-01],\n",
       "       [-1.39120457e-01,  4.80255659e-01],\n",
       "       [-8.31852186e-02,  5.03170169e-01],\n",
       "       [-7.48872073e-02,  5.14579349e-01],\n",
       "       [-5.70803544e-03,  5.29969262e-01],\n",
       "       [-1.58687180e-02,  5.39766786e-01],\n",
       "       [-1.49002564e-01,  5.29431994e-01],\n",
       "       [-1.98435901e-03,  5.59996484e-01],\n",
       "       [-2.08488575e-01,  5.30502134e-01],\n",
       "       [ 5.65227669e-02,  5.77239272e-01],\n",
       "       [-2.89358604e-02,  5.89290010e-01],\n",
       "       [ 1.25355588e-01,  5.86758874e-01],\n",
       "       [ 6.26495621e-02,  6.06774285e-01],\n",
       "       [ 3.01335207e-01,  5.41846005e-01],\n",
       "       [ 2.75775684e-01,  5.66434261e-01],\n",
       "       [ 1.32352421e-01,  6.26165183e-01],\n",
       "       [ 3.47342639e-01,  5.49411586e-01],\n",
       "       [ 3.13540745e-01,  5.80768630e-01],\n",
       "       [-1.44067966e-01,  6.54327457e-01],\n",
       "       [ 5.02643212e-01,  4.57984499e-01],\n",
       "       [ 3.70493915e-01,  5.82094716e-01],\n",
       "       [ 3.49928740e-01,  6.06258919e-01],\n",
       "       [ 4.93501165e-01,  5.10447451e-01],\n",
       "       [ 3.63212538e-01,  6.21672464e-01],\n",
       "       [ 6.62295009e-01,  3.07026581e-01],\n",
       "       [ 3.18207549e-01,  6.68089781e-01],\n",
       "       [ 4.46081933e-01,  6.02918659e-01],\n",
       "       [ 6.18103628e-01,  4.42207988e-01],\n",
       "       [ 6.07553924e-01,  4.73052037e-01],\n",
       "       [ 5.05555512e-01,  5.93981165e-01],\n",
       "       [ 2.72157190e-01,  7.41640387e-01],\n",
       "       [ 5.70347440e-01,  5.60984668e-01],\n",
       "       [ 6.05299121e-01,  5.38249918e-01],\n",
       "       [ 6.46809095e-01,  5.04021819e-01],\n",
       "       [ 7.10706203e-01,  4.28715165e-01],\n",
       "       [ 7.35105615e-01,  4.06472305e-01],\n",
       "       [ 6.74187768e-01,  5.17659012e-01],\n",
       "       [ 8.14670518e-01,  2.75521227e-01],\n",
       "       [ 8.45117378e-01,  2.06583196e-01],\n",
       "       [ 6.40506934e-01,  6.03449142e-01],\n",
       "       [ 8.66120175e-01,  2.04782425e-01],\n",
       "       [ 8.96181358e-01,  8.28189190e-02],\n",
       "       [ 8.33525542e-01,  3.65150888e-01],\n",
       "       [ 9.18575330e-01,  5.11797183e-02],\n",
       "       [ 9.22965423e-01,  1.14170172e-01],\n",
       "       [ 9.36555210e-01,  8.04011093e-02],\n",
       "       [ 9.08727618e-01,  2.76973131e-01],\n",
       "       [ 9.50896208e-01, -1.31895416e-01],\n",
       "       [ 9.17784255e-01,  3.13961879e-01],\n",
       "       [ 9.33629259e-01, -2.97886567e-01],\n",
       "       [ 9.88995443e-01, -4.45871499e-02],\n",
       "       [ 0.00000000e+00, -0.00000000e+00],\n",
       "       [ 9.79880762e-03, -1.99583797e-03],\n",
       "       [ 1.99940729e-02,  4.86876255e-04],\n",
       "       [ 2.61662525e-02, -1.46740326e-02],\n",
       "       [ 3.84511087e-02, -1.10232589e-02],\n",
       "       [ 4.95890467e-02, -6.39737823e-03],\n",
       "       [ 5.99771637e-02, -1.65524386e-03],\n",
       "       [ 6.21697472e-02, -3.21702119e-02],\n",
       "       [ 7.43436411e-02, -2.95469632e-02],\n",
       "       [ 8.06974118e-02, -3.98488109e-02],\n",
       "       [ 8.14343751e-02, -5.80382853e-02],\n",
       "       [ 9.22001492e-02, -5.99927703e-02],\n",
       "       [ 9.37395802e-02, -7.49192306e-02],\n",
       "       [ 9.60790524e-02, -8.75717745e-02],\n",
       "       [ 1.03261762e-01, -9.45357529e-02],\n",
       "       [ 1.06370805e-01, -1.05760351e-01],\n",
       "       [ 1.37466576e-01, -8.18714884e-02],\n",
       "       [ 1.01082273e-01, -1.36683481e-01],\n",
       "       [ 1.10151505e-01, -1.42360971e-01],\n",
       "       [ 9.16540054e-02, -1.66431798e-01],\n",
       "       [ 1.29709392e-01, -1.52234929e-01],\n",
       "       [ 3.26863586e-02, -2.07440599e-01],\n",
       "       [ 1.37426305e-01, -1.71796422e-01],\n",
       "       [ 1.50106931e-01, -1.74263907e-01],\n",
       "       [ 1.32737490e-01, -1.99951891e-01],\n",
       "       [ 1.34246622e-01, -2.10897711e-01],\n",
       "       [ 9.69068794e-02, -2.41265532e-01],\n",
       "       [ 2.21194549e-02, -2.69092419e-01],\n",
       "       [ 1.03753054e-01, -2.60067883e-01],\n",
       "       [ 3.87351563e-02, -2.87401440e-01],\n",
       "       [ 1.55776942e-01, -2.56385539e-01],\n",
       "       [ 5.05915167e-02, -3.05843912e-01],\n",
       "       [ 4.49940024e-02, -3.16820990e-01],\n",
       "       [-1.74914339e-02, -3.29536113e-01],\n",
       "       [ 4.91708033e-03, -3.39964443e-01],\n",
       "       [-4.84363632e-02, -3.46632253e-01],\n",
       "       [ 1.94660931e-02, -3.59473325e-01],\n",
       "       [-1.00885395e-01, -3.55980529e-01],\n",
       "       [ 2.46037929e-03, -3.79992035e-01],\n",
       "       [-4.68117997e-02, -3.87180391e-01],\n",
       "       [-9.43358132e-02, -3.88716805e-01],\n",
       "       [-3.36669158e-02, -4.08615392e-01],\n",
       "       [-1.88529982e-01, -3.75308468e-01],\n",
       "       [-5.06039869e-02, -4.27011986e-01],\n",
       "       [-1.62425981e-01, -4.08922732e-01],\n",
       "       [-2.12648211e-01, -3.96586357e-01],\n",
       "       [-8.03418780e-02, -4.52929556e-01],\n",
       "       [-1.52934025e-01, -4.44422304e-01],\n",
       "       [-2.65614079e-01, -3.99811407e-01],\n",
       "       [-2.74970348e-01, -4.05575280e-01],\n",
       "       [-2.34573442e-01, -4.41560076e-01],\n",
       "       [-3.78612687e-01, -3.41690551e-01],\n",
       "       [-3.34460262e-01, -3.98166213e-01],\n",
       "       [-2.65222370e-01, -4.58865007e-01],\n",
       "       [-3.32119042e-01, -4.25789786e-01],\n",
       "       [-4.12557377e-01, -3.63725735e-01],\n",
       "       [-4.02002778e-01, -3.89863779e-01],\n",
       "       [-3.04770028e-01, -4.81679593e-01],\n",
       "       [-4.50761110e-01, -3.64985508e-01],\n",
       "       [-5.66743279e-01, -1.64018461e-01],\n",
       "       [-4.15392351e-01, -4.32954033e-01],\n",
       "       [-4.91811803e-01, -3.60861678e-01],\n",
       "       [-5.48909912e-01, -2.88267079e-01],\n",
       "       [-5.87812164e-01, -2.26664641e-01],\n",
       "       [-5.79543657e-01, -2.71531122e-01],\n",
       "       [-5.86563807e-01, -2.80076598e-01],\n",
       "       [-6.00326136e-01, -2.74241738e-01],\n",
       "       [-5.67589542e-01, -3.56008584e-01],\n",
       "       [-6.11252234e-01, -2.97944133e-01],\n",
       "       [-6.62681829e-01, -1.92231095e-01],\n",
       "       [-6.99434809e-01,  2.81237977e-02],\n",
       "       [-6.63528162e-01, -2.52646745e-01],\n",
       "       [-7.07437708e-01, -1.33910002e-01],\n",
       "       [-6.95635703e-01, -2.21339037e-01],\n",
       "       [-7.39522482e-01, -2.65800316e-02],\n",
       "       [-7.41761456e-01,  1.10860010e-01],\n",
       "       [-7.31852772e-01,  2.04918327e-01],\n",
       "       [-7.62821244e-01,  1.04898761e-01],\n",
       "       [-7.78110642e-01,  5.42570570e-02],\n",
       "       [-7.10909578e-01,  3.44539651e-01],\n",
       "       [-7.84879826e-01,  1.54801999e-01],\n",
       "       [-7.75097682e-01,  2.35209657e-01],\n",
       "       [-8.09110142e-01,  1.33194513e-01],\n",
       "       [-7.12117393e-01,  4.26367000e-01],\n",
       "       [-7.84729601e-01,  2.99665570e-01],\n",
       "       [-8.49662414e-01, -2.39537407e-02],\n",
       "       [-7.11847617e-01,  4.82569136e-01],\n",
       "       [-7.47488621e-01,  4.45152515e-01],\n",
       "       [-7.42609239e-01,  4.72156244e-01],\n",
       "       [-8.43868125e-01,  2.82819001e-01],\n",
       "       [-6.50907748e-01,  6.21545737e-01],\n",
       "       [-8.11713922e-01,  4.11364205e-01],\n",
       "       [-8.46795454e-01,  3.59635174e-01],\n",
       "       [-8.35929064e-01,  4.07581402e-01],\n",
       "       [-9.22350700e-01,  1.81298612e-01],\n",
       "       [-4.56405752e-01,  8.33182927e-01],\n",
       "       [-6.30262690e-01,  7.24133235e-01],\n",
       "       [-5.75705887e-01,  7.80680941e-01],\n",
       "       [-2.06074574e-01,  9.58088341e-01],\n",
       "       [-5.97431027e-01,  7.89415080e-01]])"
      ]
     },
     "execution_count": 15,
     "metadata": {},
     "output_type": "execute_result"
    }
   ],
   "source": []
  },
  {
   "cell_type": "code",
   "execution_count": null,
   "metadata": {},
   "outputs": [],
   "source": []
  }
 ],
 "metadata": {
  "kernelspec": {
   "display_name": "Python 3",
   "language": "python",
   "name": "python3"
  },
  "language_info": {
   "codemirror_mode": {
    "name": "ipython",
    "version": 3
   },
   "file_extension": ".py",
   "mimetype": "text/x-python",
   "name": "python",
   "nbconvert_exporter": "python",
   "pygments_lexer": "ipython3",
   "version": "3.7.4"
  }
 },
 "nbformat": 4,
 "nbformat_minor": 2
}
