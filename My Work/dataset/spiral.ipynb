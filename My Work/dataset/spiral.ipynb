{
 "cells": [
  {
   "cell_type": "code",
   "execution_count": 1,
   "metadata": {},
   "outputs": [],
   "source": [
    "import numpy as np"
   ]
  },
  {
   "cell_type": "code",
   "execution_count": 2,
   "metadata": {},
   "outputs": [],
   "source": [
    "def load_data(seed=1984):\n",
    "    np.random.seed(seed)\n",
    "    \n",
    "    N = 100 # 클래스 당 샘플 수\n",
    "    DIM = 2 # 데이터 요소 수\n",
    "    CLS_NUM = 3 # 클래스 수\n",
    "    \n",
    "    x = np.zeros((N*CLS_NUM, DIM))\n",
    "    t = np.zeros((N*CLS_NUM, CLS_NUM), dtype=np.int)\n",
    "    \n",
    "    for j in range(CLS_NUM):\n",
    "        for i in range(N):\n",
    "            rate = i / N\n",
    "            radius = 1.0 * rate\n",
    "            theta = j*4.0 + 4.0*rate + np.random.randn()*0.2\n",
    "            ix = N*j + i\n",
    "            \n",
    "            x[ix] = np.array([radius*np.sin(theta), radius*np.cos(theta)])\n",
    "            t[ix, j] = 1\n",
    "    return x, t"
   ]
  },
  {
   "cell_type": "code",
   "execution_count": null,
   "metadata": {},
   "outputs": [],
   "source": []
  }
 ],
 "metadata": {
  "kernelspec": {
   "display_name": "Python 3",
   "language": "python",
   "name": "python3"
  },
  "language_info": {
   "codemirror_mode": {
    "name": "ipython",
    "version": 3
   },
   "file_extension": ".py",
   "mimetype": "text/x-python",
   "name": "python",
   "nbconvert_exporter": "python",
   "pygments_lexer": "ipython3",
   "version": "3.7.4"
  }
 },
 "nbformat": 4,
 "nbformat_minor": 2
}
