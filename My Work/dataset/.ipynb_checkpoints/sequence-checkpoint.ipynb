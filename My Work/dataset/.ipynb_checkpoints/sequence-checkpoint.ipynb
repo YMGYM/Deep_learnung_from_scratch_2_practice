{
 "cells": [
  {
   "cell_type": "code",
   "execution_count": 2,
   "metadata": {},
   "outputs": [],
   "source": [
    "import import_ipynb\n",
    "import sys\n",
    "sys.path.append('..')\n",
    "import os\n",
    "import numpy"
   ]
  },
  {
   "cell_type": "code",
   "execution_count": 3,
   "metadata": {},
   "outputs": [],
   "source": [
    "id_to_char = {}\n",
    "char_to_id = {}"
   ]
  },
  {
   "cell_type": "code",
   "execution_count": 4,
   "metadata": {},
   "outputs": [],
   "source": [
    "def _update_vocab(txt):\n",
    "    chars = list(txt)\n",
    "    \n",
    "    for i, char in enumerate(chars):\n",
    "        if char not in char_to_id:\n",
    "            tmp_id = len(char_to_id)\n",
    "            char_to_id[char] = tmp_id\n",
    "            id_to_char[tmp_id] = char\n",
    "            \n",
    "def load_data(file_name='addition.txt', seed=1984):\n",
    "    file_path = os.path.dirname(os.path.abspath(__file__)) + '/' + file_name\n",
    "    \n",
    "    if not os.path.exists(file_path):\n",
    "        print('No file {}'.format(file_name))\n",
    "        return None\n",
    "    \n",
    "    questions, answers = [], []\n",
    "    \n",
    "    for line in open(file_path, 'r'):\n",
    "        idx = line.find('_')\n",
    "        questions.append(line[:idx])\n",
    "        answers.append(line[idx:-1])\n",
    "        \n",
    "    # 어휘 사전 생성\n",
    "    for i in range(len(questions)):\n",
    "        q, a = questions[i], answers[i]\n",
    "        _update_vocab(q)\n",
    "        _update_vocab(a)\n",
    "        \n",
    "        \n",
    "    # 넘파이 배열 설정\n",
    "    x = numpy.zeros((len(questions), len(questions[0])), dtype=numpy.int)\n",
    "    t = numpy.zeros((len(questions), len(answers[0])), dtype=numpy.int)\n",
    "    \n",
    "    for i, sentence in enumerate(questions):\n",
    "        x[i] = [char_to_id[c] for c in list(sentence)]\n",
    "    for i, sentence in enumerate(answers):\n",
    "        t[i] = [char_to_id[c] for c in list(sentence)]\n",
    "        \n",
    "    # 뒤섞기\n",
    "    indices = numpy.arange(len(x))\n",
    "    if seed is not None:\n",
    "        numpy.random.seed(seed)\n",
    "    numpy.random.shuffle(indices)\n",
    "    \n",
    "    x = x[indices]\n",
    "    t = t[indices]\n",
    "    \n",
    "    # 검증 데이터셋으로 10% 할당\n",
    "    split_at = len(x) - len(x) // 10\n",
    "    (x_train, x_test) = x[:split_at], x[split_at:]\n",
    "    (t_train, t_test) = t[:split_at], t[split_at:]\n",
    "    \n",
    "    return (x_train, t_train), (x_test, t_test)\n",
    "\n",
    "def get_vocab():\n",
    "    return char_to_id, id_to_char"
   ]
  },
  {
   "cell_type": "code",
   "execution_count": null,
   "metadata": {},
   "outputs": [],
   "source": []
  }
 ],
 "metadata": {
  "kernelspec": {
   "display_name": "Python 3",
   "language": "python",
   "name": "python3"
  },
  "language_info": {
   "codemirror_mode": {
    "name": "ipython",
    "version": 3
   },
   "file_extension": ".py",
   "mimetype": "text/x-python",
   "name": "python",
   "nbconvert_exporter": "python",
   "pygments_lexer": "ipython3",
   "version": "3.7.4"
  }
 },
 "nbformat": 4,
 "nbformat_minor": 2
}
