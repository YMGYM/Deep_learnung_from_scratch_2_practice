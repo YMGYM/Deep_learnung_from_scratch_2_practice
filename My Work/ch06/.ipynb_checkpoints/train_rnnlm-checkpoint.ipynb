{
 "cells": [
  {
   "cell_type": "code",
   "execution_count": 1,
   "metadata": {},
   "outputs": [
    {
     "name": "stdout",
     "output_type": "stream",
     "text": [
      "importing Jupyter notebook from ../common/optimizer.ipynb\n",
      "importing Jupyter notebook from ../common/trainer.ipynb\n",
      "importing Jupyter notebook from ../common/util.ipynb\n",
      "importing Jupyter notebook from ../dataset/ptb.ipynb\n",
      "importing Jupyter notebook from ../ch06/rnnlm.ipynb\n",
      "importing Jupyter notebook from ../common/time_layers.ipynb\n",
      "importing Jupyter notebook from ../common/layers.ipynb\n",
      "importing Jupyter notebook from ../common/functions.ipynb\n",
      "importing Jupyter notebook from ../common/base_model.ipynb\n"
     ]
    }
   ],
   "source": [
    "import import_ipynb\n",
    "import sys\n",
    "sys.path.append('..')\n",
    "from common.optimizer import SGD, Adam\n",
    "from common.trainer import RnnlmTrainer\n",
    "from common.util import eval_perplexity\n",
    "from dataset import ptb\n",
    "from ch06.rnnlm import Rnnlm"
   ]
  },
  {
   "cell_type": "code",
   "execution_count": 2,
   "metadata": {},
   "outputs": [],
   "source": [
    "batch_size = 20\n",
    "wordvec_size = 100\n",
    "hidden_size = 100\n",
    "time_size = 35\n",
    "\n",
    "lr = 20.0\n",
    "max_epoch = 4\n",
    "max_grad = 0.25"
   ]
  },
  {
   "cell_type": "code",
   "execution_count": 3,
   "metadata": {},
   "outputs": [],
   "source": [
    "corpus, word_to_id, id_to_word = ptb.load_data('train')\n",
    "corpus_test, _, _ = ptb.load_data('test')\n",
    "vocab_size = len(word_to_id)\n",
    "xs = corpus[:-1]\n",
    "ts = corpus[1:]"
   ]
  },
  {
   "cell_type": "code",
   "execution_count": 4,
   "metadata": {},
   "outputs": [],
   "source": [
    "model = Rnnlm(vocab_size, wordvec_size, hidden_size)\n",
    "optimizer = SGD(lr)\n",
    "trainer = RnnlmTrainer(model, optimizer)"
   ]
  },
  {
   "cell_type": "code",
   "execution_count": 5,
   "metadata": {},
   "outputs": [
    {
     "name": "stdout",
     "output_type": "stream",
     "text": [
      "| 에폭 1 |  반복 1 / 1327 | 시간 0[s] | 퍼플렉서티 10001.24\n",
      "| 에폭 1 |  반복 21 / 1327 | 시간 13[s] | 퍼플렉서티 2252.05\n",
      "| 에폭 1 |  반복 41 / 1327 | 시간 25[s] | 퍼플렉서티 1585.20\n",
      "| 에폭 1 |  반복 61 / 1327 | 시간 40[s] | 퍼플렉서티 1175.74\n",
      "| 에폭 1 |  반복 81 / 1327 | 시간 57[s] | 퍼플렉서티 904.84\n",
      "| 에폭 1 |  반복 101 / 1327 | 시간 71[s] | 퍼플렉서티 777.51\n",
      "| 에폭 1 |  반복 121 / 1327 | 시간 86[s] | 퍼플렉서티 751.58\n",
      "| 에폭 1 |  반복 141 / 1327 | 시간 100[s] | 퍼플렉서티 737.91\n",
      "| 에폭 1 |  반복 161 / 1327 | 시간 109[s] | 퍼플렉서티 691.16\n",
      "| 에폭 1 |  반복 181 / 1327 | 시간 121[s] | 퍼플렉서티 677.40\n",
      "| 에폭 1 |  반복 201 / 1327 | 시간 130[s] | 퍼플렉서티 642.95\n",
      "| 에폭 1 |  반복 221 / 1327 | 시간 140[s] | 퍼플렉서티 618.98\n",
      "| 에폭 1 |  반복 241 / 1327 | 시간 153[s] | 퍼플렉서티 582.30\n",
      "| 에폭 1 |  반복 261 / 1327 | 시간 166[s] | 퍼플렉서티 624.50\n",
      "| 에폭 1 |  반복 281 / 1327 | 시간 179[s] | 퍼플렉서티 599.44\n",
      "| 에폭 1 |  반복 301 / 1327 | 시간 190[s] | 퍼플렉서티 544.94\n",
      "| 에폭 1 |  반복 321 / 1327 | 시간 199[s] | 퍼플렉서티 478.19\n",
      "| 에폭 1 |  반복 341 / 1327 | 시간 209[s] | 퍼플렉서티 581.63\n",
      "| 에폭 1 |  반복 361 / 1327 | 시간 219[s] | 퍼플렉서티 596.35\n",
      "| 에폭 1 |  반복 381 / 1327 | 시간 233[s] | 퍼플렉서티 517.59\n",
      "| 에폭 1 |  반복 401 / 1327 | 시간 242[s] | 퍼플렉서티 544.97\n",
      "| 에폭 1 |  반복 421 / 1327 | 시간 256[s] | 퍼플렉서티 533.37\n",
      "| 에폭 1 |  반복 441 / 1327 | 시간 264[s] | 퍼플렉서티 513.28\n",
      "| 에폭 1 |  반복 461 / 1327 | 시간 274[s] | 퍼플렉서티 515.78\n",
      "| 에폭 1 |  반복 481 / 1327 | 시간 288[s] | 퍼플렉서티 492.99\n",
      "| 에폭 1 |  반복 501 / 1327 | 시간 303[s] | 퍼플렉서티 520.61\n",
      "| 에폭 1 |  반복 521 / 1327 | 시간 311[s] | 퍼플렉서티 484.82\n",
      "| 에폭 1 |  반복 541 / 1327 | 시간 320[s] | 퍼플렉서티 518.89\n",
      "| 에폭 1 |  반복 561 / 1327 | 시간 331[s] | 퍼플렉서티 481.13\n",
      "| 에폭 1 |  반복 581 / 1327 | 시간 343[s] | 퍼플렉서티 448.53\n",
      "| 에폭 1 |  반복 601 / 1327 | 시간 358[s] | 퍼플렉서티 567.57\n",
      "| 에폭 1 |  반복 621 / 1327 | 시간 381[s] | 퍼플렉서티 535.48\n",
      "| 에폭 1 |  반복 641 / 1327 | 시간 395[s] | 퍼플렉서티 501.91\n",
      "| 에폭 1 |  반복 661 / 1327 | 시간 404[s] | 퍼플렉서티 482.54\n",
      "| 에폭 1 |  반복 681 / 1327 | 시간 413[s] | 퍼플렉서티 431.11\n",
      "| 에폭 1 |  반복 701 / 1327 | 시간 425[s] | 퍼플렉서티 454.40\n",
      "| 에폭 1 |  반복 721 / 1327 | 시간 435[s] | 퍼플렉서티 476.80\n",
      "| 에폭 1 |  반복 741 / 1327 | 시간 443[s] | 퍼플렉서티 414.34\n",
      "| 에폭 1 |  반복 761 / 1327 | 시간 451[s] | 퍼플렉서티 436.70\n",
      "| 에폭 1 |  반복 781 / 1327 | 시간 459[s] | 퍼플렉서티 425.32\n",
      "| 에폭 1 |  반복 801 / 1327 | 시간 467[s] | 퍼플렉서티 456.71\n",
      "| 에폭 1 |  반복 821 / 1327 | 시간 475[s] | 퍼플렉서티 429.84\n",
      "| 에폭 1 |  반복 841 / 1327 | 시간 484[s] | 퍼플렉서티 445.57\n"
     ]
    },
    {
     "name": "stderr",
     "output_type": "stream",
     "text": [
      "../common/functions.ipynb:2: RuntimeWarning: overflow encountered in exp\n",
      "  \"cells\": [\n"
     ]
    },
    {
     "name": "stdout",
     "output_type": "stream",
     "text": [
      "| 에폭 1 |  반복 861 / 1327 | 시간 492[s] | 퍼플렉서티 453.41\n",
      "| 에폭 1 |  반복 881 / 1327 | 시간 502[s] | 퍼플렉서티 420.07\n",
      "| 에폭 1 |  반복 901 / 1327 | 시간 513[s] | 퍼플렉서티 482.76\n",
      "| 에폭 1 |  반복 921 / 1327 | 시간 524[s] | 퍼플렉서티 468.96\n",
      "| 에폭 1 |  반복 941 / 1327 | 시간 533[s] | 퍼플렉서티 483.46\n",
      "| 에폭 1 |  반복 961 / 1327 | 시간 549[s] | 퍼플렉서티 511.79\n",
      "| 에폭 1 |  반복 981 / 1327 | 시간 570[s] | 퍼플렉서티 497.05\n",
      "| 에폭 1 |  반복 1001 / 1327 | 시간 588[s] | 퍼플렉서티 442.18\n",
      "| 에폭 1 |  반복 1021 / 1327 | 시간 603[s] | 퍼플렉서티 494.18\n",
      "| 에폭 1 |  반복 1041 / 1327 | 시간 622[s] | 퍼플렉서티 472.67\n",
      "| 에폭 1 |  반복 1061 / 1327 | 시간 660[s] | 퍼플렉서티 502.78\n"
     ]
    },
    {
     "ename": "KeyboardInterrupt",
     "evalue": "",
     "output_type": "error",
     "traceback": [
      "\u001b[0;31m--------------------------------------------------------------------------\u001b[0m",
      "\u001b[0;31mKeyboardInterrupt\u001b[0m                        Traceback (most recent call last)",
      "\u001b[0;32m<ipython-input-5-da656c68559d>\u001b[0m in \u001b[0;36m<module>\u001b[0;34m\u001b[0m\n\u001b[0;32m----> 1\u001b[0;31m \u001b[0mtrainer\u001b[0m\u001b[0;34m.\u001b[0m\u001b[0mfit\u001b[0m\u001b[0;34m(\u001b[0m\u001b[0mxs\u001b[0m\u001b[0;34m,\u001b[0m \u001b[0mts\u001b[0m\u001b[0;34m,\u001b[0m \u001b[0mmax_epoch\u001b[0m\u001b[0;34m,\u001b[0m \u001b[0mbatch_size\u001b[0m\u001b[0;34m,\u001b[0m \u001b[0mtime_size\u001b[0m\u001b[0;34m,\u001b[0m \u001b[0mmax_grad\u001b[0m\u001b[0;34m,\u001b[0m \u001b[0meval_interval\u001b[0m\u001b[0;34m=\u001b[0m\u001b[0;36m20\u001b[0m\u001b[0;34m)\u001b[0m\u001b[0;34m\u001b[0m\u001b[0;34m\u001b[0m\u001b[0m\n\u001b[0m\u001b[1;32m      2\u001b[0m \u001b[0mtrainer\u001b[0m\u001b[0;34m.\u001b[0m\u001b[0mplot\u001b[0m\u001b[0;34m(\u001b[0m\u001b[0mylim\u001b[0m \u001b[0;34m=\u001b[0m \u001b[0;34m(\u001b[0m\u001b[0;36m0\u001b[0m\u001b[0;34m,\u001b[0m \u001b[0;36m500\u001b[0m\u001b[0;34m)\u001b[0m\u001b[0;34m)\u001b[0m\u001b[0;34m\u001b[0m\u001b[0;34m\u001b[0m\u001b[0m\n",
      "\u001b[0;32m/workspace/DNN-practice/My Work/common/trainer.ipynb\u001b[0m in \u001b[0;36mfit\u001b[0;34m(self, xs, ts, max_epoch, batch_size, time_size, max_grad, eval_interval)\u001b[0m\n",
      "\u001b[0;32m/workspace/DNN-practice/My Work/ch06/rnnlm.ipynb\u001b[0m in \u001b[0;36mforward\u001b[0;34m(self, xs, ts)\u001b[0m\n",
      "\u001b[0;32m/workspace/DNN-practice/My Work/ch06/rnnlm.ipynb\u001b[0m in \u001b[0;36mpredict\u001b[0;34m(self, xs)\u001b[0m\n",
      "\u001b[0;32m/workspace/DNN-practice/My Work/common/time_layers.ipynb\u001b[0m in \u001b[0;36mforward\u001b[0;34m(self, x)\u001b[0m\n",
      "\u001b[0;32m<__array_function__ internals>\u001b[0m in \u001b[0;36mdot\u001b[0;34m(*args, **kwargs)\u001b[0m\n",
      "\u001b[0;31mKeyboardInterrupt\u001b[0m: "
     ]
    }
   ],
   "source": [
    "trainer.fit(xs, ts, max_epoch, batch_size, time_size, max_grad, eval_interval=20)\n",
    "trainer.plot(ylim = (0, 500))"
   ]
  },
  {
   "cell_type": "code",
   "execution_count": null,
   "metadata": {},
   "outputs": [],
   "source": []
  }
 ],
 "metadata": {
  "kernelspec": {
   "display_name": "Python 3",
   "language": "python",
   "name": "python3"
  },
  "language_info": {
   "codemirror_mode": {
    "name": "ipython",
    "version": 3
   },
   "file_extension": ".py",
   "mimetype": "text/x-python",
   "name": "python",
   "nbconvert_exporter": "python",
   "pygments_lexer": "ipython3",
   "version": "3.7.4"
  }
 },
 "nbformat": 4,
 "nbformat_minor": 2
}
