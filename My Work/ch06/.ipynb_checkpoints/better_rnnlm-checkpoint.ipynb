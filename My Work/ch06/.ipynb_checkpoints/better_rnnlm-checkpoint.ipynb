{
 "cells": [
  {
   "cell_type": "code",
   "execution_count": 2,
   "metadata": {},
   "outputs": [
    {
     "name": "stdout",
     "output_type": "stream",
     "text": [
      "importing Jupyter notebook from ../common/time_layers.ipynb\n",
      "importing Jupyter notebook from ../common/layers.ipynb\n",
      "importing Jupyter notebook from ../common/functions.ipynb\n",
      "importing Jupyter notebook from ../common/base_model.ipynb\n",
      "importing Jupyter notebook from ../common/util.ipynb\n"
     ]
    }
   ],
   "source": [
    "import import_ipynb\n",
    "import sys\n",
    "sys.path.append('..')\n",
    "from common.time_layers import *\n",
    "import numpy as np\n",
    "from common.base_model import BaseModel\n"
   ]
  },
  {
   "cell_type": "code",
   "execution_count": null,
   "metadata": {},
   "outputs": [],
   "source": [
    "class BetterRnnlm(BaseModel):\n",
    "    def __init__(self, vocab_size = 10000, wordvec_size=650, hidden_size:650, dropout_ratio = 0.5):\n",
    "        V, D, H = vocab_size, wordvec_size, hidden_size\n",
    "        rn = np.random.randn\n",
    "        \n",
    "        embed_W = (rn(V, D) / 100).astype('f')\n",
    "        ltsm_Wx1 = (rn(D, 4*H) / np.sqrt(D)).astype('f')\n",
    "        ltsm_Wh1 = (rn(H, 4*H) / np.sqrt(H)).astype('f')\n",
    "        ltsm_b1 = np.zeros(4*H).astype('f')\n",
    "        ltsm_Wx2 = (rn(H, 4*H) / np.sqrt(D)).astype('f')\n",
    "        ltsm_Wh2 = (rn(H, 4*H) / np.sqrt(H)).astype('f')\n",
    "        ltsm_b1 = np.zeros(4*H).astype('f')\n",
    "        affine_b = np.zeros(V).astype('f')\n",
    "        \n",
    "        self.layers = [\n",
    "            TimeEmbedding(embed_W),\n",
    "            TimeDropout(dropout_ratio),\n",
    "            TimeLTSM(ltsm_Wx1, ltsm_Wh1, ltsm_b1, stateful = True),\n",
    "            TimeDropout(dropout_ratio),\n",
    "            TimeLTSM(ltsm_Wx2, ltsm_Wh2, ltsm_b2, stateful = True),\n",
    "            TimeDropout(dropout_ratio),\n",
    "            TimeAffine(embed_W.T, affine_b) # 가중치 공유\n",
    "        ]\n",
    "        \n",
    "        self.loss_layer = TimeSoftMaxWithLoss()\n",
    "        self.ltsm_layers = [self.layers[2], self.layers[4]]\n",
    "        self.drop_layers = [self.layers[1], self.layers[3], self.layers[5]]\n",
    "        \n",
    "        self.params, self.grads = [], []\n",
    "        for layer in self.layers:\n",
    "            self.params += layer.params\n",
    "            self.grads += layer.grads\n",
    "            \n",
    "    \n",
    "    def predict(self, xs, train_flg = False):\n",
    "        for layer in self.drop_layers:\n",
    "            layer.train_flg = train_flg\n",
    "        for layer in self.layers:\n",
    "            xs = layer.forward(xs)\n",
    "        return xs\n",
    "    \n",
    "    \n",
    "    def forward(self, xs, ts, train_flg = True):\n",
    "        score = self.predict(xs, train_flg)\n",
    "        loss = self.loss_layer.forward(score, ts)\n",
    "        return loss\n",
    "    \n",
    "    def backward(self, dout = 1):\n",
    "        dout = self.loss_layer.backward(dout)\n",
    "        for layer in reversed(self.layers):\n",
    "            dout = layer.backward(dout)\n",
    "        return dout\n",
    "    \n",
    "    def reset_state(self):\n",
    "        for layer in self.ltsm_layers:\n",
    "            layer.reset_state()\n",
    "            \n"
   ]
  }
 ],
 "metadata": {
  "kernelspec": {
   "display_name": "Python 3",
   "language": "python",
   "name": "python3"
  },
  "language_info": {
   "codemirror_mode": {
    "name": "ipython",
    "version": 3
   },
   "file_extension": ".py",
   "mimetype": "text/x-python",
   "name": "python",
   "nbconvert_exporter": "python",
   "pygments_lexer": "ipython3",
   "version": "3.7.4"
  }
 },
 "nbformat": 4,
 "nbformat_minor": 2
}
