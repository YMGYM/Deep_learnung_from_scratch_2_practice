{
 "cells": [
  {
   "cell_type": "code",
   "execution_count": 1,
   "metadata": {},
   "outputs": [],
   "source": [
    "import numpy as np"
   ]
  },
  {
   "cell_type": "code",
   "execution_count": 25,
   "metadata": {},
   "outputs": [],
   "source": [
    "grads = [np.random.randn(10,3)]"
   ]
  },
  {
   "cell_type": "code",
   "execution_count": 26,
   "metadata": {},
   "outputs": [
    {
     "data": {
      "text/plain": [
       "[array([[-0.00288916, -0.27315826,  0.50557331],\n",
       "        [-0.32507839,  0.62804311,  0.59210759],\n",
       "        [-0.99443696, -1.03914692,  0.72471704],\n",
       "        [ 0.48378183,  0.05650653,  0.4305768 ],\n",
       "        [ 2.43196672, -1.40104737, -0.46993264],\n",
       "        [ 1.2803105 ,  1.18822085, -0.59098168],\n",
       "        [ 0.66679146,  0.42644977,  1.13129517],\n",
       "        [-0.1040922 ,  0.43427396,  0.99813043],\n",
       "        [-0.4042165 ,  1.10026075, -0.39247728],\n",
       "        [-0.72565428, -1.13179655, -1.11736358]])]"
      ]
     },
     "execution_count": 26,
     "metadata": {},
     "output_type": "execute_result"
    }
   ],
   "source": [
    "grads"
   ]
  },
  {
   "cell_type": "code",
   "execution_count": 27,
   "metadata": {},
   "outputs": [],
   "source": [
    "W = grads"
   ]
  },
  {
   "cell_type": "code",
   "execution_count": 28,
   "metadata": {},
   "outputs": [
    {
     "data": {
      "text/plain": [
       "[array([[-0.00288916, -0.27315826,  0.50557331],\n",
       "        [-0.32507839,  0.62804311,  0.59210759],\n",
       "        [-0.99443696, -1.03914692,  0.72471704],\n",
       "        [ 0.48378183,  0.05650653,  0.4305768 ],\n",
       "        [ 2.43196672, -1.40104737, -0.46993264],\n",
       "        [ 1.2803105 ,  1.18822085, -0.59098168],\n",
       "        [ 0.66679146,  0.42644977,  1.13129517],\n",
       "        [-0.1040922 ,  0.43427396,  0.99813043],\n",
       "        [-0.4042165 ,  1.10026075, -0.39247728],\n",
       "        [-0.72565428, -1.13179655, -1.11736358]])]"
      ]
     },
     "execution_count": 28,
     "metadata": {},
     "output_type": "execute_result"
    }
   ],
   "source": [
    "W"
   ]
  },
  {
   "cell_type": "code",
   "execution_count": 31,
   "metadata": {},
   "outputs": [
    {
     "data": {
      "text/plain": [
       "[array([[-0.00288916, -0.27315826,  0.50557331],\n",
       "        [-0.32507839,  0.62804311,  0.59210759],\n",
       "        [-0.99443696, -1.03914692,  0.72471704],\n",
       "        [ 0.48378183,  0.05650653,  0.4305768 ],\n",
       "        [ 2.43196672, -1.40104737, -0.46993264],\n",
       "        [ 1.2803105 ,  1.18822085, -0.59098168],\n",
       "        [ 0.66679146,  0.42644977,  1.13129517],\n",
       "        [-0.1040922 ,  0.43427396,  0.99813043],\n",
       "        [-0.4042165 ,  1.10026075, -0.39247728],\n",
       "        [-0.72565428, -1.13179655, -1.11736358]])]"
      ]
     },
     "execution_count": 31,
     "metadata": {},
     "output_type": "execute_result"
    }
   ],
   "source": [
    "W2 = grads\n",
    "W2"
   ]
  },
  {
   "cell_type": "code",
   "execution_count": 35,
   "metadata": {},
   "outputs": [
    {
     "data": {
      "text/plain": [
       "True"
      ]
     },
     "execution_count": 35,
     "metadata": {},
     "output_type": "execute_result"
    }
   ],
   "source": [
    "my_bool = (W == W2)\n",
    "my_bool"
   ]
  },
  {
   "cell_type": "code",
   "execution_count": 39,
   "metadata": {},
   "outputs": [
    {
     "data": {
      "text/plain": [
       "[array([[0., 0., 0.],\n",
       "        [0., 0., 0.],\n",
       "        [0., 0., 0.],\n",
       "        [0., 0., 0.],\n",
       "        [0., 0., 0.],\n",
       "        [0., 0., 0.],\n",
       "        [0., 0., 0.],\n",
       "        [0., 0., 0.],\n",
       "        [0., 0., 0.],\n",
       "        [0., 0., 0.]])]"
      ]
     },
     "execution_count": 39,
     "metadata": {},
     "output_type": "execute_result"
    }
   ],
   "source": [
    "W2[0][...] = 0\n",
    "W"
   ]
  },
  {
   "cell_type": "code",
   "execution_count": 38,
   "metadata": {},
   "outputs": [
    {
     "data": {
      "text/plain": [
       "array([[-0.00288916, -0.27315826,  0.50557331],\n",
       "       [-0.32507839,  0.62804311,  0.59210759],\n",
       "       [-0.99443696, -1.03914692,  0.72471704],\n",
       "       [ 0.48378183,  0.05650653,  0.4305768 ],\n",
       "       [ 2.43196672, -1.40104737, -0.46993264],\n",
       "       [ 1.2803105 ,  1.18822085, -0.59098168],\n",
       "       [ 0.66679146,  0.42644977,  1.13129517],\n",
       "       [-0.1040922 ,  0.43427396,  0.99813043],\n",
       "       [-0.4042165 ,  1.10026075, -0.39247728],\n",
       "       [-0.72565428, -1.13179655, -1.11736358]])"
      ]
     },
     "execution_count": 38,
     "metadata": {},
     "output_type": "execute_result"
    }
   ],
   "source": [
    "W2[0]"
   ]
  },
  {
   "cell_type": "code",
   "execution_count": null,
   "metadata": {},
   "outputs": [],
   "source": []
  }
 ],
 "metadata": {
  "kernelspec": {
   "display_name": "Python 3",
   "language": "python",
   "name": "python3"
  },
  "language_info": {
   "codemirror_mode": {
    "name": "ipython",
    "version": 3
   },
   "file_extension": ".py",
   "mimetype": "text/x-python",
   "name": "python",
   "nbconvert_exporter": "python",
   "pygments_lexer": "ipython3",
   "version": "3.7.4"
  }
 },
 "nbformat": 4,
 "nbformat_minor": 2
}
